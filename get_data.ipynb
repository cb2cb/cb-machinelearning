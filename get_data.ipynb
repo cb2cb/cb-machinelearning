{
 "cells": [
  {
   "cell_type": "code",
   "execution_count": 2,
   "id": "ef99e6ac",
   "metadata": {},
   "outputs": [
    {
     "name": "stderr",
     "output_type": "stream",
     "text": [
      "$NWG.ST: possibly delisted; no price data found  (period=1d) (Yahoo error = \"No data found, symbol may be delisted\")\n",
      "HTTP Error 404: {\"quoteSummary\":{\"result\":null,\"error\":{\"code\":\"Not Found\",\"description\":\"Quote not found for symbol: HEXP.ST\"}}}\n",
      "$HEXP.ST: possibly delisted; no price data found  (period=1d) (Yahoo error = \"No data found, symbol may be delisted\")\n",
      "$LUN.ST: possibly delisted; no price data found  (period=1d) (Yahoo error = \"No data found, symbol may be delisted\")\n"
     ]
    },
    {
     "name": "stdout",
     "output_type": "stream",
     "text": [
      "✅ Data tvättad och sparad till fundamental_data.csv\n",
      "      Ticker       Price          MarketCap  PE  PB  EV/EBITDA  ROE  \\\n",
      "0       EWRK  107.000000      1 849 738 496  16   8         12    1   \n",
      "1  NOVO-B.CO  363.450012  1 614 964 588 544  15  10         11    1   \n",
      "2       FOUR   75.510002      6 677 433 856  28   8         12    0   \n",
      "3      BTS-B  188.399994      3 654 360 832  11   2         11    0   \n",
      "4        NWG    0.000000                  0   0   0          0    0   \n",
      "\n",
      "   Debt/Equity          Revenue        NetIncome  OperatingMargin  \\\n",
      "0          116   14 499 482 624      117 594 000                0   \n",
      "1           59  311 937 990 656  111 067 996 160                0   \n",
      "2          187    3 610 700 032      207 700 000                0   \n",
      "3           34    2 821 441 024      337 822 016                0   \n",
      "4            0                0                0                0   \n",
      "\n",
      "   GrossMargins    FreeCashflow  Beta  DividendYield  \n",
      "0             0     212 415 120     0              6  \n",
      "1             1  26 440 624 128     0              3  \n",
      "2             0     417 237 504     2              0  \n",
      "3             0     279 008 384     1              3  \n",
      "4             0               0     0              0  \n"
     ]
    }
   ],
   "source": [
    "import yfinance as yf\n",
    "import pandas as pd\n",
    "\n",
    "tickers = [\n",
    "    \"EWRK.ST\",\"NOVO-B.CO\",\"FOUR\",\"BTS-B.ST\",\"NWG.ST\",\"EVO.ST\",\"BETS-B.ST\",\n",
    "    \"VOLV-B.ST\",\"ERIC-B.ST\",\"SAND.ST\",\"ATCO-A.ST\",\"HM-B.ST\",\"INVE-B.ST\",\n",
    "    \"SWED-A.ST\",\"SHB-A.ST\",\"SKF-B.ST\",\"ASSA-B.ST\",\"SEB-A.ST\",\"TEL2-B.ST\",\"SCA-B.ST\",\n",
    "    \"INDU-C.ST\",\"LATO-B.ST\",\"BALD-B.ST\",\"CAST.ST\",\"HEXP.ST\",\"KINV-B.ST\",\n",
    "    \"ALFA.ST\",\"LUN.ST\",\"NIBE-B.ST\",\"SSAB-A.ST\"\n",
    "]\n",
    "\n",
    "rows = []\n",
    "for t in tickers:\n",
    "    try:\n",
    "        stock = yf.Ticker(t)\n",
    "        info = stock.info\n",
    "        hist = stock.history(period=\"1d\")\n",
    "\n",
    "        rows.append({\n",
    "            \"Ticker\": t,\n",
    "            \"Price\": hist[\"Close\"].iloc[-1] if not hist.empty else None,\n",
    "            \"MarketCap\": info.get(\"marketCap\"),\n",
    "            \"PE\": info.get(\"trailingPE\"),\n",
    "            \"PB\": info.get(\"priceToBook\"),\n",
    "            \"EV/EBITDA\": info.get(\"enterpriseToEbitda\"),\n",
    "            \"ROE\": info.get(\"returnOnEquity\"),\n",
    "            \"Debt/Equity\": info.get(\"debtToEquity\"),\n",
    "            \"Revenue\": info.get(\"totalRevenue\"),\n",
    "            \"NetIncome\": info.get(\"netIncomeToCommon\"),\n",
    "            \"OperatingMargin\": info.get(\"operatingMargins\"),\n",
    "            \"GrossMargins\": info.get(\"grossMargins\"),\n",
    "            \"FreeCashflow\": info.get(\"freeCashflow\"),\n",
    "            \"Beta\": info.get(\"beta\"),\n",
    "            \"DividendYield\": info.get(\"dividendYield\")\n",
    "        })\n",
    "    except Exception as e:\n",
    "        print(f\"Fel med {t}: {e}\")\n",
    "\n",
    "# Skapa DataFrame\n",
    "df = pd.DataFrame(rows)\n",
    "\n",
    "# Ta bort .ST från tickers\n",
    "df[\"Ticker\"] = df[\"Ticker\"].str.replace(\".ST\", \"\", regex=False)\n",
    "\n",
    "# Formatera siffror\n",
    "numeric_cols_int = [\"MarketCap\", \"Revenue\", \"NetIncome\", \"FreeCashflow\"]  # inga decimaler, tusentalsavgränsning\n",
    "numeric_cols_round = [\"PE\", \"PB\", \"EV/EBITDA\", \"ROE\", \"Debt/Equity\", \"OperatingMargin\", \"GrossMargins\", \"Beta\", \"DividendYield\"]\n",
    "\n",
    "# Rensa bort None och NaN\n",
    "df = df.fillna(0)\n",
    "\n",
    "# Formatera stora tal med tusentalsavgränsning\n",
    "for col in numeric_cols_int:\n",
    "    df[col] = df[col].astype(float).round(0).astype(int).apply(lambda x: f\"{x:,}\".replace(\",\", \" \"))\n",
    "\n",
    "# Runda nyckeltal till heltal\n",
    "for col in numeric_cols_round:\n",
    "    df[col] = df[col].astype(float).round(0).astype(int)\n",
    "\n",
    "# Spara ren fil\n",
    "df.to_csv(\"fundamental_data.csv\", index=False, encoding=\"utf-8-sig\")\n",
    "\n",
    "print(\"✅ Data tvättad och sparad till fundamental_data.csv\")\n",
    "print(df.head())\n"
   ]
  }
 ],
 "metadata": {
  "kernelspec": {
   "display_name": ".venv (3.13.7)",
   "language": "python",
   "name": "python3"
  },
  "language_info": {
   "codemirror_mode": {
    "name": "ipython",
    "version": 3
   },
   "file_extension": ".py",
   "mimetype": "text/x-python",
   "name": "python",
   "nbconvert_exporter": "python",
   "pygments_lexer": "ipython3",
   "version": "3.13.7"
  }
 },
 "nbformat": 4,
 "nbformat_minor": 5
}
